{
 "cells": [
  {
   "cell_type": "code",
   "execution_count": 1,
   "id": "1d0967c3",
   "metadata": {},
   "outputs": [
    {
     "name": "stdout",
     "output_type": "stream",
     "text": [
      "initializing bank_management\n",
      "Initializing the 'user' package.\n",
      "Initializing the 'investment' package.\n"
     ]
    }
   ],
   "source": [
    "from bank_management import start"
   ]
  },
  {
   "cell_type": "code",
   "execution_count": 2,
   "id": "c1cdb3a5",
   "metadata": {},
   "outputs": [
    {
     "name": "stdout",
     "output_type": "stream",
     "text": [
      "Welcome to AZYY Bank\n",
      "Bye!\n"
     ]
    }
   ],
   "source": [
    "start.main()\n"
   ]
  }
 ],
 "metadata": {
  "kernelspec": {
   "display_name": "Python 3.9.6 64-bit",
   "language": "python",
   "name": "python3"
  },
  "language_info": {
   "codemirror_mode": {
    "name": "ipython",
    "version": 3
   },
   "file_extension": ".py",
   "mimetype": "text/x-python",
   "name": "python",
   "nbconvert_exporter": "python",
   "pygments_lexer": "ipython3",
   "version": "3.9.6"
  },
  "vscode": {
   "interpreter": {
    "hash": "31f2aee4e71d21fbe5cf8b01ff0e069b9275f58929596ceb00d14d90e3e16cd6"
   }
  }
 },
 "nbformat": 4,
 "nbformat_minor": 5
}
